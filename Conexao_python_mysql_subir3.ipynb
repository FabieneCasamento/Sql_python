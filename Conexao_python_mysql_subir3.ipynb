{
 "cells": [
  {
   "cell_type": "markdown",
   "id": "f54b21ba-c0c5-4165-ad8b-395c999b49c9",
   "metadata": {},
   "source": [
    "## Curso criando conexao com o mysql e o python"
   ]
  },
  {
   "cell_type": "code",
   "execution_count": 1,
   "id": "630a6fd7-f624-4795-9bb3-33f20ae1f2a2",
   "metadata": {},
   "outputs": [],
   "source": [
    "#pagina 124\n"
   ]
  },
  {
   "cell_type": "raw",
   "id": "e186aa6e-2711-46c9-b6ad-a9dfe97d78a8",
   "metadata": {},
   "source": [
    "\n",
    "terminal: conda env list\n",
    "terminal: conda activate Maq_AmbienteVirtual\n",
    "terminal: sudo mysql -u root -p\n",
    "[sudo] senha para computador:    \n",
    "Enter password: admin\n",
    "Welcome to the MySQL monitor.  Commands end with ; or \\g.\n",
    "Your MySQL connection id is 8\n",
    "Server version: 8.0.36-0ubuntu0.20.04.1 (Ubuntu)\n",
    "\n",
    "Copyright (c) 2000, 2024, Oracle and/or its affiliates.\n",
    "\n",
    "Oracle is a registered trademark of Oracle Corporation and/or its\n",
    "affiliates. Other names may be trademarks of their respective\n",
    "owners.\n",
    "\n",
    "Type 'help;' or '\\h' for help. Type '\\c' to clear the current input statement.\n",
    "\n",
    "mysql> show databases;\n",
    "+---------------------+\n",
    "| Database            |\n",
    "+---------------------+\n",
    "| banco_dados_teste   |\n",
    "| bdyoutube           |\n",
    "| clientes_aula       |\n",
    "| information_schema  |\n",
    "| meu_banco_de_dados2 |\n",
    "| meu_novo            |\n",
    "| mysql               |\n",
    "| novodados           |\n",
    "| pedido_aula         |\n",
    "| performance_schema  |\n",
    "| produtos_aula       |\n",
    "| questao             |\n",
    "| sys                 |\n",
    "+---------------------+\n",
    "13 rows in set (2,86 sec)\n",
    "\n",
    "mysql> USE banco_dados_teste;\n",
    "Reading table information for completion of table and column names\n",
    "You can turn off this feature to get a quicker startup with -A\n",
    "\n",
    "Database ch"
   ]
  },
  {
   "cell_type": "markdown",
   "id": "4ed70a5d-abdc-426a-b7bb-0190faf4e628",
   "metadata": {},
   "source": [
    "# no mysql\n",
    "\n",
    "\n",
    "\n",
    "Terminal: sudo mysql -u root -p\n",
    "\n",
    "mysql> CREATE database banco_dados_teste;\n",
    "\n",
    "mysql> USE banco_dados_teste;\n",
    "\n",
    "mysql> CREATE TABLE banco_dados_teste.vendas(\n",
    "\n",
    "    -> id INT PRIMARY KEY AUTO_INCREMENT,\n",
    "    \n",
    "    -> name VARCHAR(100),\n",
    "    \n",
    "    -> price DECIMAL(10,2),\n",
    "    \n",
    "    -> quantity INT   );\n",
    "    \n",
    "Query OK, 0 rows affected (0,48 sec)\n"
   ]
  },
  {
   "cell_type": "code",
   "execution_count": 3,
   "id": "84a2e0b9-a491-4b2e-b14f-d3fe87d923cc",
   "metadata": {},
   "outputs": [],
   "source": [
    "import mysql.connector\n",
    "\n",
    "\n",
    "conexao = mysql.connector.connect(\n",
    "    host='localhost',\n",
    "    user='root',\n",
    "    password='admin',\n",
    "    database='banco_dados_teste',\n",
    ")\n",
    "\n",
    "cursor = conexao.cursor()"
   ]
  },
  {
   "cell_type": "code",
   "execution_count": 4,
   "id": "9455f564-3417-4943-9e7a-82141a6cc500",
   "metadata": {},
   "outputs": [
    {
     "name": "stdout",
     "output_type": "stream",
     "text": [
      "(1, 'todynho', Decimal('3.00'), 4)\n",
      "(2, 'todynho', Decimal('3.00'), 4)\n",
      "(3, 'agua', Decimal('1.00'), 4)\n",
      "(4, 'todynho', Decimal('3.00'), 4)\n",
      "(5, 'agua', Decimal('1.00'), 20)\n",
      "(6, 'chocolate', Decimal('23.00'), 30)\n"
     ]
    }
   ],
   "source": [
    "#CREATE\n",
    "\n",
    "# Execute the SQL query\n",
    "cursor.execute(\"SELECT * FROM banco_dados_teste.vendas\")\n",
    "\n",
    "# Fetch all the rows from the query result\n",
    "resultado = cursor.fetchall()\n",
    "\n",
    "# Process the fetched rows\n",
    "for row in resultado:\n",
    "    print(row)"
   ]
  },
  {
   "cell_type": "code",
   "execution_count": 5,
   "id": "bf6e02ff-9d9b-42be-b9e7-0f3e0fba3e10",
   "metadata": {},
   "outputs": [],
   "source": [
    "# CRUD\n",
    "nome_produto = \"todynho\"\n",
    "valor= 3\n",
    "quantidade=4\n",
    "#colocar o valor na tabela\n",
    "comando = f'INSERT INTO vendas (name, price,quantity) VALUES (\"{nome_produto}\",{valor},{quantidade})'\n",
    "cursor.execute(comando)\n",
    "conexao.commit() # edita o banco de dados"
   ]
  },
  {
   "cell_type": "code",
   "execution_count": 6,
   "id": "227b89f3-f664-484b-9c8b-01a333b0967e",
   "metadata": {},
   "outputs": [],
   "source": [
    "nome_produto = \"agua\"\n",
    "valor= 1\n",
    "quantidade=20\n",
    "#colocar o valor na tabela\n",
    "comando = f'INSERT INTO vendas (name, price,quantity) VALUES (\"{nome_produto}\",{valor},{quantidade})'\n",
    "cursor.execute(comando)\n",
    "conexao.commit() # edita o banco de dados\n"
   ]
  },
  {
   "cell_type": "code",
   "execution_count": 7,
   "id": "61ff81ef-3f2a-423c-a2d5-0175c56aad05",
   "metadata": {},
   "outputs": [],
   "source": [
    "nome_produto = \"chocolate\"\n",
    "valor= 23\n",
    "quantidade=30\n",
    "#colocar o valor na tabela\n",
    "comando = f'INSERT INTO vendas (name, price,quantity) VALUES (\"{nome_produto}\",{valor},{quantidade})'\n",
    "cursor.execute(comando)\n",
    "conexao.commit() # edita o banco de dados\n"
   ]
  },
  {
   "cell_type": "code",
   "execution_count": 8,
   "id": "cb4e7326-32c6-439f-8ff2-5f7260890236",
   "metadata": {},
   "outputs": [
    {
     "name": "stdout",
     "output_type": "stream",
     "text": [
      "[(1, 'todynho', Decimal('3.00'), 4), (2, 'todynho', Decimal('3.00'), 4), (3, 'agua', Decimal('1.00'), 4), (4, 'todynho', Decimal('3.00'), 4), (5, 'agua', Decimal('1.00'), 20), (6, 'chocolate', Decimal('23.00'), 30), (7, 'todynho', Decimal('3.00'), 4), (8, 'agua', Decimal('1.00'), 20), (9, 'chocolate', Decimal('23.00'), 30)]\n",
      "\n",
      "(1, 'todynho', Decimal('3.00'), 4)\n",
      "(2, 'todynho', Decimal('3.00'), 4)\n",
      "(3, 'agua', Decimal('1.00'), 4)\n",
      "(4, 'todynho', Decimal('3.00'), 4)\n",
      "(5, 'agua', Decimal('1.00'), 20)\n",
      "(6, 'chocolate', Decimal('23.00'), 30)\n",
      "(7, 'todynho', Decimal('3.00'), 4)\n",
      "(8, 'agua', Decimal('1.00'), 20)\n",
      "(9, 'chocolate', Decimal('23.00'), 30)\n"
     ]
    }
   ],
   "source": [
    "#ver\n",
    "# Execute the SQL query\n",
    "cursor.execute(\"SELECT * FROM banco_dados_teste.vendas\")\n",
    "\n",
    "# Fetch all the rows from \n",
    "\n",
    "resultado = cursor.fetchall()\n",
    "\n",
    "print(resultado)\n",
    "print()\n",
    "\n",
    "for row in resultado:\n",
    "    print(row)\n",
    "#estamos com o autoincrement, por isso os dados sao inseridos"
   ]
  },
  {
   "cell_type": "code",
   "execution_count": 9,
   "id": "6c072af0-62ab-4a06-9806-8ca72b673bb8",
   "metadata": {},
   "outputs": [
    {
     "name": "stdout",
     "output_type": "stream",
     "text": [
      "[(1, 'todynho', Decimal('3.00'), 4), (2, 'todynho', Decimal('3.00'), 4), (3, 'agua', Decimal('1.00'), 4), (4, 'todynho', Decimal('3.00'), 4), (5, 'agua', Decimal('1.00'), 20), (6, 'chocolate', Decimal('23.00'), 30), (7, 'todynho', Decimal('3.00'), 4), (8, 'agua', Decimal('1.00'), 20), (9, 'chocolate', Decimal('23.00'), 30)]\n"
     ]
    }
   ],
   "source": [
    "#outra maneira de observar o banco de dados\n",
    "comando = f'SELECT * FROM banco_dados_teste.vendas'\n",
    "cursor.execute(comando)\n",
    "resultado = cursor.fetchall()#ler o banco de dados\n",
    "print(resultado)\n",
    "\n",
    "#cursor.close()\n",
    "#conexao.close()\n"
   ]
  },
  {
   "cell_type": "code",
   "execution_count": 10,
   "id": "8174149a-907f-4d4d-8cd3-3af9d7960351",
   "metadata": {},
   "outputs": [
    {
     "data": {
      "text/plain": [
       "[(1, 'todynho', Decimal('3.00'), 4),\n",
       " (2, 'todynho', Decimal('3.00'), 4),\n",
       " (3, 'agua', Decimal('1.00'), 4),\n",
       " (4, 'todynho', Decimal('3.00'), 4),\n",
       " (5, 'agua', Decimal('1.00'), 20),\n",
       " (6, 'chocolate', Decimal('23.00'), 30),\n",
       " (7, 'todynho', Decimal('3.00'), 4),\n",
       " (8, 'agua', Decimal('1.00'), 20),\n",
       " (9, 'chocolate', Decimal('23.00'), 30)]"
      ]
     },
     "metadata": {},
     "output_type": "display_data"
    }
   ],
   "source": [
    "comando = f'SELECT * FROM vendas'\n",
    "cursor.execute(comando)\n",
    "resultado =cursor.fetchall()#ler o banco de dados\n",
    "\n",
    "display(resultado)\n",
    "cursor.close()\n",
    "conexao.close()\n"
   ]
  },
  {
   "cell_type": "markdown",
   "id": "5a53728a-0834-46b9-a475-003a0243e7e4",
   "metadata": {},
   "source": [
    "### UPDATE"
   ]
  },
  {
   "cell_type": "code",
   "execution_count": 23,
   "id": "516ef039-348e-4427-8381-d639a3ef4cc1",
   "metadata": {},
   "outputs": [],
   "source": [
    "import mysql.connector\n",
    "\n",
    "# Establish a connection to the database\n",
    "conexao = mysql.connector.connect(\n",
    "    host=\"localhost\",\n",
    "    user=\"root\",\n",
    "    password=\"admin\",\n",
    "    database=\"banco_dados_teste\"\n",
    ")\n",
    "\n",
    "# Create a cursor object\n",
    "cursor = conexao.cursor()\n"
   ]
  },
  {
   "cell_type": "code",
   "execution_count": 24,
   "id": "2edb510f-9abd-41bf-84c2-562088fd1186",
   "metadata": {},
   "outputs": [],
   "source": [
    "\n",
    "\n",
    "# Define the values for the update\n",
    "nome_produto = \"todynho\"\n",
    "valor = 7\n",
    "\n",
    "# Execute the UPDATE statement\n",
    "comando = f'UPDATE vendas SET price = {valor} WHERE name = \"{nome_produto}\" AND id=2'\n",
    "cursor.execute(comando)\n",
    "\n",
    "# Commit the changes\n",
    "conexao.commit()\n",
    "\n",
    "\n"
   ]
  },
  {
   "cell_type": "code",
   "execution_count": 25,
   "id": "89b5dc93-b710-4233-87f5-fbc28fecca24",
   "metadata": {},
   "outputs": [
    {
     "data": {
      "text/plain": [
       "[(1, 'todynho', Decimal('3.00'), 4),\n",
       " (2, 'todynho', Decimal('7.00'), 4),\n",
       " (3, 'agua', Decimal('1.00'), 4),\n",
       " (4, 'todynho', Decimal('3.00'), 4),\n",
       " (5, 'agua', Decimal('1.00'), 20),\n",
       " (6, 'chocolate', Decimal('23.00'), 30),\n",
       " (7, 'todynho', Decimal('3.00'), 4),\n",
       " (8, 'agua', Decimal('1.00'), 20),\n",
       " (9, 'chocolate', Decimal('23.00'), 30)]"
      ]
     },
     "metadata": {},
     "output_type": "display_data"
    }
   ],
   "source": [
    "comando = f'SELECT * FROM vendas'\n",
    "cursor.execute(comando)\n",
    "resultado =cursor.fetchall()#ler o banco de dados\n",
    "\n",
    "display(resultado)"
   ]
  },
  {
   "cell_type": "code",
   "execution_count": 26,
   "id": "b050294b-f8eb-4e54-a5c1-7f7d21c06231",
   "metadata": {},
   "outputs": [],
   "source": [
    "# Close the cursor and the connection\n",
    "cursor.close()\n",
    "conexao.close()"
   ]
  },
  {
   "cell_type": "markdown",
   "id": "cad05023-7a1a-464a-adea-170e7b060641",
   "metadata": {},
   "source": [
    "# Consulta SQL para selecionar todos os dados da tabela\n"
   ]
  },
  {
   "cell_type": "code",
   "execution_count": 27,
   "id": "dcb8ff3d-ec36-4f81-909e-3b3657eaa3d4",
   "metadata": {},
   "outputs": [
    {
     "name": "stdout",
     "output_type": "stream",
     "text": [
      "   id       name  price  quantity\n",
      "0   1    todynho    3.0         4\n",
      "1   2    todynho    7.0         4\n",
      "2   3       agua    1.0         4\n",
      "3   4    todynho    3.0         4\n",
      "4   5       agua    1.0        20\n",
      "5   6  chocolate   23.0        30\n",
      "6   7    todynho    3.0         4\n",
      "7   8       agua    1.0        20\n",
      "8   9  chocolate   23.0        30\n"
     ]
    },
    {
     "name": "stderr",
     "output_type": "stream",
     "text": [
      "/tmp/ipykernel_14046/2150624491.py:15: UserWarning: pandas only supports SQLAlchemy connectable (engine/connection) or database string URI or sqlite3 DBAPI2 connection. Other DBAPI2 objects are not tested. Please consider using SQLAlchemy.\n",
      "  df = pd.read_sql(query, conexao)\n"
     ]
    }
   ],
   "source": [
    "import pandas as pd\n",
    "\n",
    "# Establish a connection to the database\n",
    "conexao = mysql.connector.connect(\n",
    "    host=\"localhost\",\n",
    "    user=\"root\",\n",
    "    password=\"admin\",\n",
    "    database=\"banco_dados_teste\"\n",
    ")\n",
    "\n",
    "# Consulta SQL para selecionar todos os dados da tabela\n",
    "query = \"SELECT * FROM vendas\"\n",
    "\n",
    "# Leia os dados da tabela em um DataFrame do pandas\n",
    "df = pd.read_sql(query, conexao)\n",
    "\n",
    "# Exiba o DataFrame\n",
    "print(df)\n",
    "\n"
   ]
  },
  {
   "cell_type": "code",
   "execution_count": 28,
   "id": "d50d30f0-1936-4dc0-8d48-d8a9e5e2a281",
   "metadata": {},
   "outputs": [],
   "source": [
    "# Feche a conexão\n",
    "conexao.close()"
   ]
  },
  {
   "cell_type": "code",
   "execution_count": 30,
   "id": "5928557d-0321-43eb-901a-154513f1f260",
   "metadata": {},
   "outputs": [
    {
     "name": "stdout",
     "output_type": "stream",
     "text": [
      "Arquivo do sql mais elegante no dataframe\n"
     ]
    },
    {
     "data": {
      "text/html": [
       "<div>\n",
       "<style scoped>\n",
       "    .dataframe tbody tr th:only-of-type {\n",
       "        vertical-align: middle;\n",
       "    }\n",
       "\n",
       "    .dataframe tbody tr th {\n",
       "        vertical-align: top;\n",
       "    }\n",
       "\n",
       "    .dataframe thead th {\n",
       "        text-align: right;\n",
       "    }\n",
       "</style>\n",
       "<table border=\"1\" class=\"dataframe\">\n",
       "  <thead>\n",
       "    <tr style=\"text-align: right;\">\n",
       "      <th></th>\n",
       "      <th>id</th>\n",
       "      <th>name</th>\n",
       "      <th>price</th>\n",
       "      <th>quantity</th>\n",
       "    </tr>\n",
       "  </thead>\n",
       "  <tbody>\n",
       "    <tr>\n",
       "      <th>0</th>\n",
       "      <td>1</td>\n",
       "      <td>todynho</td>\n",
       "      <td>3.0</td>\n",
       "      <td>4</td>\n",
       "    </tr>\n",
       "    <tr>\n",
       "      <th>1</th>\n",
       "      <td>2</td>\n",
       "      <td>todynho</td>\n",
       "      <td>7.0</td>\n",
       "      <td>4</td>\n",
       "    </tr>\n",
       "    <tr>\n",
       "      <th>2</th>\n",
       "      <td>3</td>\n",
       "      <td>agua</td>\n",
       "      <td>1.0</td>\n",
       "      <td>4</td>\n",
       "    </tr>\n",
       "    <tr>\n",
       "      <th>3</th>\n",
       "      <td>4</td>\n",
       "      <td>todynho</td>\n",
       "      <td>3.0</td>\n",
       "      <td>4</td>\n",
       "    </tr>\n",
       "    <tr>\n",
       "      <th>4</th>\n",
       "      <td>5</td>\n",
       "      <td>agua</td>\n",
       "      <td>1.0</td>\n",
       "      <td>20</td>\n",
       "    </tr>\n",
       "    <tr>\n",
       "      <th>5</th>\n",
       "      <td>6</td>\n",
       "      <td>chocolate</td>\n",
       "      <td>23.0</td>\n",
       "      <td>30</td>\n",
       "    </tr>\n",
       "    <tr>\n",
       "      <th>6</th>\n",
       "      <td>7</td>\n",
       "      <td>todynho</td>\n",
       "      <td>3.0</td>\n",
       "      <td>4</td>\n",
       "    </tr>\n",
       "    <tr>\n",
       "      <th>7</th>\n",
       "      <td>8</td>\n",
       "      <td>agua</td>\n",
       "      <td>1.0</td>\n",
       "      <td>20</td>\n",
       "    </tr>\n",
       "    <tr>\n",
       "      <th>8</th>\n",
       "      <td>9</td>\n",
       "      <td>chocolate</td>\n",
       "      <td>23.0</td>\n",
       "      <td>30</td>\n",
       "    </tr>\n",
       "  </tbody>\n",
       "</table>\n",
       "</div>"
      ],
      "text/plain": [
       "   id       name  price  quantity\n",
       "0   1    todynho    3.0         4\n",
       "1   2    todynho    7.0         4\n",
       "2   3       agua    1.0         4\n",
       "3   4    todynho    3.0         4\n",
       "4   5       agua    1.0        20\n",
       "5   6  chocolate   23.0        30\n",
       "6   7    todynho    3.0         4\n",
       "7   8       agua    1.0        20\n",
       "8   9  chocolate   23.0        30"
      ]
     },
     "metadata": {},
     "output_type": "display_data"
    }
   ],
   "source": [
    "print(\"Arquivo do sql mais elegante no dataframe\")\n",
    "display(df)"
   ]
  },
  {
   "cell_type": "markdown",
   "id": "7341452d-356c-4387-9c10-92d2bb888f05",
   "metadata": {},
   "source": [
    "# DELETAR"
   ]
  },
  {
   "cell_type": "code",
   "execution_count": 31,
   "id": "844d8c52-e53d-488a-ba80-d83871df6445",
   "metadata": {},
   "outputs": [],
   "source": [
    "# Establish a connection to the database\n",
    "conexao = mysql.connector.connect(\n",
    "    host=\"localhost\",\n",
    "    user=\"root\",\n",
    "    password=\"admin\",\n",
    "    database=\"banco_dados_teste\"\n",
    ")\n",
    "\n",
    "\n",
    "# Create a cursor object\n",
    "cursor = conexao.cursor()\n",
    "\n"
   ]
  },
  {
   "cell_type": "code",
   "execution_count": 34,
   "id": "ed2fad7b-6d9e-4445-93f0-195cd8ee7c8f",
   "metadata": {},
   "outputs": [],
   "source": [
    "\n",
    "name_produte= \"todynho\"\n",
    "comando = f'DELETE FROM vendas WHERE name=\"{name_produte}\" AND id = 4 '\n",
    "cursor.execute(comando)\n",
    "conexao.commit()\n",
    "#edita o banco de dados\n",
    "\n",
    "\n"
   ]
  },
  {
   "cell_type": "code",
   "execution_count": 35,
   "id": "51da79bf-c311-4661-b414-47831ac03fc1",
   "metadata": {},
   "outputs": [],
   "source": [
    "\n",
    "name_produte= \"chocolate\"\n",
    "comando = f'DELETE FROM vendas WHERE name=\"{name_produte}\" AND id = 9 '\n",
    "cursor.execute(comando)\n",
    "conexao.commit()\n",
    "#edita o banco de dados"
   ]
  },
  {
   "cell_type": "code",
   "execution_count": 36,
   "id": "8cddce6e-6acb-4248-88b2-1b0f9e0e661b",
   "metadata": {},
   "outputs": [
    {
     "name": "stderr",
     "output_type": "stream",
     "text": [
      "/tmp/ipykernel_14046/2598331490.py:5: UserWarning: pandas only supports SQLAlchemy connectable (engine/connection) or database string URI or sqlite3 DBAPI2 connection. Other DBAPI2 objects are not tested. Please consider using SQLAlchemy.\n",
      "  df2 = pd.read_sql(query, conexao)\n"
     ]
    },
    {
     "data": {
      "text/html": [
       "<div>\n",
       "<style scoped>\n",
       "    .dataframe tbody tr th:only-of-type {\n",
       "        vertical-align: middle;\n",
       "    }\n",
       "\n",
       "    .dataframe tbody tr th {\n",
       "        vertical-align: top;\n",
       "    }\n",
       "\n",
       "    .dataframe thead th {\n",
       "        text-align: right;\n",
       "    }\n",
       "</style>\n",
       "<table border=\"1\" class=\"dataframe\">\n",
       "  <thead>\n",
       "    <tr style=\"text-align: right;\">\n",
       "      <th></th>\n",
       "      <th>id</th>\n",
       "      <th>name</th>\n",
       "      <th>price</th>\n",
       "      <th>quantity</th>\n",
       "    </tr>\n",
       "  </thead>\n",
       "  <tbody>\n",
       "    <tr>\n",
       "      <th>0</th>\n",
       "      <td>1</td>\n",
       "      <td>todynho</td>\n",
       "      <td>3.0</td>\n",
       "      <td>4</td>\n",
       "    </tr>\n",
       "    <tr>\n",
       "      <th>1</th>\n",
       "      <td>2</td>\n",
       "      <td>todynho</td>\n",
       "      <td>7.0</td>\n",
       "      <td>4</td>\n",
       "    </tr>\n",
       "    <tr>\n",
       "      <th>2</th>\n",
       "      <td>3</td>\n",
       "      <td>agua</td>\n",
       "      <td>1.0</td>\n",
       "      <td>4</td>\n",
       "    </tr>\n",
       "    <tr>\n",
       "      <th>3</th>\n",
       "      <td>5</td>\n",
       "      <td>agua</td>\n",
       "      <td>1.0</td>\n",
       "      <td>20</td>\n",
       "    </tr>\n",
       "    <tr>\n",
       "      <th>4</th>\n",
       "      <td>6</td>\n",
       "      <td>chocolate</td>\n",
       "      <td>23.0</td>\n",
       "      <td>30</td>\n",
       "    </tr>\n",
       "    <tr>\n",
       "      <th>5</th>\n",
       "      <td>7</td>\n",
       "      <td>todynho</td>\n",
       "      <td>3.0</td>\n",
       "      <td>4</td>\n",
       "    </tr>\n",
       "    <tr>\n",
       "      <th>6</th>\n",
       "      <td>8</td>\n",
       "      <td>agua</td>\n",
       "      <td>1.0</td>\n",
       "      <td>20</td>\n",
       "    </tr>\n",
       "  </tbody>\n",
       "</table>\n",
       "</div>"
      ],
      "text/plain": [
       "   id       name  price  quantity\n",
       "0   1    todynho    3.0         4\n",
       "1   2    todynho    7.0         4\n",
       "2   3       agua    1.0         4\n",
       "3   5       agua    1.0        20\n",
       "4   6  chocolate   23.0        30\n",
       "5   7    todynho    3.0         4\n",
       "6   8       agua    1.0        20"
      ]
     },
     "metadata": {},
     "output_type": "display_data"
    }
   ],
   "source": [
    "# Consulta SQL para selecionar todos os dados da tabela\n",
    "query = \"SELECT * FROM vendas\"\n",
    "\n",
    "# Leia os dados da tabela em um DataFrame do pandas\n",
    "df2 = pd.read_sql(query, conexao)\n",
    "\n",
    "# Exiba o DataFrame\n",
    "display(df2)\n",
    "\n",
    "# Feche a conexão\n",
    "#conexao.close()"
   ]
  },
  {
   "cell_type": "code",
   "execution_count": 37,
   "id": "1f3d1ef4-dbdf-440a-b4b5-f6a89e776a63",
   "metadata": {},
   "outputs": [],
   "source": [
    "conexao.close()"
   ]
  },
  {
   "cell_type": "markdown",
   "id": "80f9872f-5c39-43ab-87fb-b84ef4e41f79",
   "metadata": {},
   "source": [
    "# Revisão "
   ]
  },
  {
   "cell_type": "code",
   "execution_count": 38,
   "id": "e7e1c0e7-0c6d-4594-9c78-6617d36eed3c",
   "metadata": {},
   "outputs": [
    {
     "name": "stdout",
     "output_type": "stream",
     "text": [
      "banco_dados_teste\n",
      "bdyoutube\n",
      "clientes_aula\n",
      "information_schema\n",
      "meu_banco_de_dados2\n",
      "meu_novo\n",
      "mysql\n",
      "novodados\n",
      "pedido_aula\n",
      "performance_schema\n",
      "produtos_aula\n",
      "questao\n",
      "sys\n"
     ]
    }
   ],
   "source": [
    "import mysql.connector\n",
    "\n",
    "\n",
    "\n",
    "# Conectar ao servidor MySQL\n",
    "connection = mysql.connector.connect(\n",
    "    host=\"localhost\",\n",
    "    user=\"root\",\n",
    "    password=\"admin\"\n",
    ")\n",
    "\n",
    "# Criar um cursor\n",
    "cursor = connection.cursor()\n",
    "\n",
    "# Executar a consulta SQL para listar todos os bancos de dados\n",
    "cursor.execute(\"SHOW DATABASES\")\n",
    "\n",
    "# Obter os nomes dos bancos de dados\n",
    "bancos_de_dados = cursor.fetchall()\n",
    "\n",
    "# Exibir os nomes dos bancos de dados\n",
    "for banco_de_dados in bancos_de_dados:\n",
    "    print(banco_de_dados[0])\n",
    "\n",
    "# Fechar o cursor e a conexão\n",
    "#cursor.close()\n",
    "#connection.close()"
   ]
  },
  {
   "cell_type": "code",
   "execution_count": 39,
   "id": "a34401e3-89b3-4b55-82ac-006c25ce6c20",
   "metadata": {},
   "outputs": [],
   "source": [
    "cursor.close()\n",
    "connection.close()"
   ]
  },
  {
   "cell_type": "code",
   "execution_count": 40,
   "id": "bf0803ad-7b39-4e05-865f-0118daf167f1",
   "metadata": {},
   "outputs": [],
   "source": [
    "import mysql.connector\n",
    "\n",
    "# Configurar a conexão com o banco de dados\n",
    "conexao = mysql.connector.connect(\n",
    "    host='localhost',\n",
    "    user='root',\n",
    "    password='admin',\n",
    "    database='banco_dados_teste',\n",
    ")\n",
    "\n",
    "# Criar um cursor\n",
    "cursor = conexao.cursor()"
   ]
  },
  {
   "cell_type": "code",
   "execution_count": 46,
   "id": "c744bad1-a498-4ca6-9161-884e59d9ec5a",
   "metadata": {},
   "outputs": [],
   "source": [
    "\n",
    "query1 = \"CREATE TABLE banco_dados_teste.pedidos(id INT PRIMARY KEY AUTO_INCREMENT, name VARCHAR(100));\"\n",
    "cursor.execute(query1)\n",
    "\n"
   ]
  },
  {
   "cell_type": "code",
   "execution_count": 48,
   "id": "4e690240-d2e0-4ec5-bd45-254721b48211",
   "metadata": {},
   "outputs": [],
   "source": [
    "# CRUD\n",
    "nome_produto_falta = \"Pepsi\"\n",
    "\n",
    "#colocar o valor na tabela\n",
    "comando = f'INSERT INTO pedidos (name) VALUES (\"{nome_produto_falta}\")'\n",
    "cursor.execute(comando)\n",
    "conexao.commit() # edita o banco de dados\n",
    "\n",
    "# CRUD\n",
    "nome_produto_falta = \"Guaraná\"\n",
    "\n",
    "#colocar o valor na tabela\n",
    "comando = f'INSERT INTO pedidos (name) VALUES (\"{nome_produto_falta}\")'\n",
    "cursor.execute(comando)\n",
    "conexao.commit() # edita o banco de dados\n"
   ]
  },
  {
   "cell_type": "code",
   "execution_count": 49,
   "id": "12ff2f09-5e51-4b3a-9705-40a8b3fbbfdf",
   "metadata": {},
   "outputs": [
    {
     "name": "stdout",
     "output_type": "stream",
     "text": [
      "(1, 'Pepsi')\n",
      "(2, 'Guaraná')\n"
     ]
    }
   ],
   "source": [
    "# Executar a consulta SQL para selecionar todos os dados da tabela\n",
    "query = \"SELECT * FROM pedidos\"\n",
    "cursor.execute(query)\n",
    "\n",
    "# Obter todos os resultados da consulta\n",
    "resultados0 = cursor.fetchall()\n",
    "\n",
    "# Exibir os resultados\n",
    "for linha in resultados0:\n",
    "    print(linha)"
   ]
  },
  {
   "cell_type": "code",
   "execution_count": 50,
   "id": "c9916408-6a95-4bfb-b92f-653f75855fab",
   "metadata": {},
   "outputs": [
    {
     "name": "stdout",
     "output_type": "stream",
     "text": [
      "pedidos\n",
      "vendas\n"
     ]
    }
   ],
   "source": [
    "\n",
    "\n",
    "# Fechar o cursor e a conexão\n",
    "#cursor.close()\n",
    "#conexao.close()\n",
    "\n",
    "\n",
    "cursor.execute(\"SHOW TABLES\")\n",
    "\n",
    "# Obter os nomes das tabelas\n",
    "tabelas = cursor.fetchall()\n",
    "\n",
    "# Exibir os nomes das tabelas\n",
    "for tabela in tabelas:\n",
    "    print(tabela[0])"
   ]
  },
  {
   "cell_type": "code",
   "execution_count": 51,
   "id": "eaf80913-7b0f-48e8-99fb-22d7bbe5ef84",
   "metadata": {},
   "outputs": [],
   "source": [
    "cursor.close()\n",
    "conexao.close()"
   ]
  },
  {
   "cell_type": "code",
   "execution_count": null,
   "id": "4f98f837-3803-41fc-8cd1-2d45de61d175",
   "metadata": {},
   "outputs": [],
   "source": []
  }
 ],
 "metadata": {
  "kernelspec": {
   "display_name": "Python 3 (ipykernel)",
   "language": "python",
   "name": "python3"
  },
  "language_info": {
   "codemirror_mode": {
    "name": "ipython",
    "version": 3
   },
   "file_extension": ".py",
   "mimetype": "text/x-python",
   "name": "python",
   "nbconvert_exporter": "python",
   "pygments_lexer": "ipython3",
   "version": "3.11.9"
  }
 },
 "nbformat": 4,
 "nbformat_minor": 5
}
